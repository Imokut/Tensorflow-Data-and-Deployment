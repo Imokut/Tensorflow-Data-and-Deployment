{
 "cells": [
  {
   "cell_type": "markdown",
   "metadata": {
    "colab_type": "text",
    "id": "view-in-github"
   },
   "source": [
    "<a href=\"https://colab.research.google.com/github/https-deeplearning-ai/tensorflow-2-public/blob/adding_C2/C2/W1/ungraded_labs/C2_W1_Lab_1_Linear_Regression.ipynb\" target=\"_parent\"><img src=\"https://colab.research.google.com/assets/colab-badge.svg\" alt=\"Open In Colab\"/></a>"
   ]
  },
  {
   "cell_type": "code",
   "execution_count": 1,
   "metadata": {
    "id": "zX4Kg8DUTKWO",
    "tags": []
   },
   "outputs": [],
   "source": [
    "#@title Licensed under the Apache License, Version 2.0 (the \"License\");\n",
    "# you may not use this file except in compliance with the License.\n",
    "# You may obtain a copy of the License at\n",
    "#\n",
    "# https://www.apache.org/licenses/LICENSE-2.0\n",
    "#\n",
    "# Unless required by applicable law or agreed to in writing, software\n",
    "# distributed under the License is distributed on an \"AS IS\" BASIS,\n",
    "# WITHOUT WARRANTIES OR CONDITIONS OF ANY KIND, either express or implied.\n",
    "# See the License for the specific language governing permissions and\n",
    "# limitations under the License."
   ]
  },
  {
   "cell_type": "markdown",
   "metadata": {
    "id": "Za8-Nr5k11fh"
   },
   "source": [
    "##### Copyright 2018 The TensorFlow Authors."
   ]
  },
  {
   "cell_type": "code",
   "execution_count": 2,
   "metadata": {
    "cellView": "form",
    "id": "Eq10uEbw0E4l",
    "tags": []
   },
   "outputs": [],
   "source": [
    "#@title Licensed under the Apache License, Version 2.0 (the \"License\");\n",
    "# you may not use this file except in compliance with the License.\n",
    "# You may obtain a copy of the License at\n",
    "#\n",
    "# https://www.apache.org/licenses/LICENSE-2.0\n",
    "#\n",
    "# Unless required by applicable law or agreed to in writing, software\n",
    "# distributed under the License is distributed on an \"AS IS\" BASIS,\n",
    "# WITHOUT WARRANTIES OR CONDITIONS OF ANY KIND, either express or implied.\n",
    "# See the License for the specific language governing permissions and\n",
    "# limitations under the License."
   ]
  },
  {
   "cell_type": "markdown",
   "metadata": {
    "id": "UysiGN3tGQHY"
   },
   "source": [
    "# Running TFLite Models"
   ]
  },
  {
   "cell_type": "markdown",
   "metadata": {
    "id": "W-VhTkyTGcaQ"
   },
   "source": [
    "## Setup"
   ]
  },
  {
   "cell_type": "code",
   "execution_count": 3,
   "metadata": {
    "id": "Ll4ii2J9Fea_",
    "tags": []
   },
   "outputs": [],
   "source": [
    "try:\n",
    "    %tensorflow_version 2.x\n",
    "except:\n",
    "    pass"
   ]
  },
  {
   "cell_type": "code",
   "execution_count": 4,
   "metadata": {
    "id": "dy4BcTjBFTWx",
    "tags": []
   },
   "outputs": [
    {
     "name": "stdout",
     "output_type": "stream",
     "text": [
      "• Using TensorFlow Version: 2.11.1\n"
     ]
    }
   ],
   "source": [
    "import pathlib\n",
    "import numpy as np\n",
    "import matplotlib.pyplot as plt\n",
    "\n",
    "import tensorflow as tf\n",
    "\n",
    "print('\\u2022 Using TensorFlow Version:', tf.__version__)"
   ]
  },
  {
   "cell_type": "markdown",
   "metadata": {
    "id": "ceibQLDeGhI4"
   },
   "source": [
    "## Create a Basic Model of the Form y = mx + c"
   ]
  },
  {
   "cell_type": "code",
   "execution_count": 5,
   "metadata": {
    "id": "YIBCsjQNF46Z",
    "tags": []
   },
   "outputs": [
    {
     "name": "stdout",
     "output_type": "stream",
     "text": [
      "Epoch 1/200\n",
      "1/1 [==============================] - 0s 328ms/step - loss: 48.7504\n",
      "Epoch 2/200\n",
      "1/1 [==============================] - 0s 6ms/step - loss: 38.7438\n",
      "Epoch 3/200\n",
      "1/1 [==============================] - 0s 5ms/step - loss: 30.8631\n",
      "Epoch 4/200\n",
      "1/1 [==============================] - 0s 6ms/step - loss: 24.6550\n",
      "Epoch 5/200\n",
      "1/1 [==============================] - 0s 6ms/step - loss: 19.7632\n",
      "Epoch 6/200\n",
      "1/1 [==============================] - 0s 4ms/step - loss: 15.9070\n",
      "Epoch 7/200\n",
      "1/1 [==============================] - 0s 5ms/step - loss: 12.8658\n",
      "Epoch 8/200\n",
      "1/1 [==============================] - 0s 4ms/step - loss: 10.4659\n",
      "Epoch 9/200\n",
      "1/1 [==============================] - 0s 4ms/step - loss: 8.5707\n",
      "Epoch 10/200\n",
      "1/1 [==============================] - 0s 4ms/step - loss: 7.0728\n",
      "Epoch 11/200\n",
      "1/1 [==============================] - 0s 6ms/step - loss: 5.8875\n",
      "Epoch 12/200\n",
      "1/1 [==============================] - 0s 4ms/step - loss: 4.9483\n",
      "Epoch 13/200\n",
      "1/1 [==============================] - 0s 4ms/step - loss: 4.2030\n",
      "Epoch 14/200\n",
      "1/1 [==============================] - 0s 4ms/step - loss: 3.6102\n",
      "Epoch 15/200\n",
      "1/1 [==============================] - 0s 5ms/step - loss: 3.1375\n",
      "Epoch 16/200\n",
      "1/1 [==============================] - 0s 5ms/step - loss: 2.7596\n",
      "Epoch 17/200\n",
      "1/1 [==============================] - 0s 5ms/step - loss: 2.4563\n",
      "Epoch 18/200\n",
      "1/1 [==============================] - 0s 4ms/step - loss: 2.2118\n",
      "Epoch 19/200\n",
      "1/1 [==============================] - 0s 5ms/step - loss: 2.0137\n",
      "Epoch 20/200\n",
      "1/1 [==============================] - 0s 6ms/step - loss: 1.8522\n",
      "Epoch 21/200\n",
      "1/1 [==============================] - 0s 5ms/step - loss: 1.7197\n",
      "Epoch 22/200\n",
      "1/1 [==============================] - 0s 5ms/step - loss: 1.6100\n",
      "Epoch 23/200\n",
      "1/1 [==============================] - 0s 5ms/step - loss: 1.5184\n",
      "Epoch 24/200\n",
      "1/1 [==============================] - 0s 4ms/step - loss: 1.4412\n",
      "Epoch 25/200\n",
      "1/1 [==============================] - 0s 4ms/step - loss: 1.3754\n",
      "Epoch 26/200\n",
      "1/1 [==============================] - 0s 7ms/step - loss: 1.3187\n",
      "Epoch 27/200\n",
      "1/1 [==============================] - 0s 4ms/step - loss: 1.2692\n",
      "Epoch 28/200\n",
      "1/1 [==============================] - 0s 6ms/step - loss: 1.2255\n",
      "Epoch 29/200\n",
      "1/1 [==============================] - 0s 6ms/step - loss: 1.1864\n",
      "Epoch 30/200\n",
      "1/1 [==============================] - 0s 5ms/step - loss: 1.1512\n",
      "Epoch 31/200\n",
      "1/1 [==============================] - 0s 5ms/step - loss: 1.1189\n",
      "Epoch 32/200\n",
      "1/1 [==============================] - 0s 5ms/step - loss: 1.0892\n",
      "Epoch 33/200\n",
      "1/1 [==============================] - 0s 4ms/step - loss: 1.0615\n",
      "Epoch 34/200\n",
      "1/1 [==============================] - 0s 4ms/step - loss: 1.0355\n",
      "Epoch 35/200\n",
      "1/1 [==============================] - 0s 5ms/step - loss: 1.0110\n",
      "Epoch 36/200\n",
      "1/1 [==============================] - 0s 5ms/step - loss: 0.9876\n",
      "Epoch 37/200\n",
      "1/1 [==============================] - 0s 5ms/step - loss: 0.9653\n",
      "Epoch 38/200\n",
      "1/1 [==============================] - 0s 4ms/step - loss: 0.9439\n",
      "Epoch 39/200\n",
      "1/1 [==============================] - 0s 4ms/step - loss: 0.9232\n",
      "Epoch 40/200\n",
      "1/1 [==============================] - 0s 5ms/step - loss: 0.9033\n",
      "Epoch 41/200\n",
      "1/1 [==============================] - 0s 4ms/step - loss: 0.8839\n",
      "Epoch 42/200\n",
      "1/1 [==============================] - 0s 5ms/step - loss: 0.8652\n",
      "Epoch 43/200\n",
      "1/1 [==============================] - 0s 6ms/step - loss: 0.8469\n",
      "Epoch 44/200\n",
      "1/1 [==============================] - 0s 4ms/step - loss: 0.8291\n",
      "Epoch 45/200\n",
      "1/1 [==============================] - 0s 5ms/step - loss: 0.8118\n",
      "Epoch 46/200\n",
      "1/1 [==============================] - 0s 5ms/step - loss: 0.7949\n",
      "Epoch 47/200\n",
      "1/1 [==============================] - 0s 5ms/step - loss: 0.7784\n",
      "Epoch 48/200\n",
      "1/1 [==============================] - 0s 4ms/step - loss: 0.7622\n",
      "Epoch 49/200\n",
      "1/1 [==============================] - 0s 4ms/step - loss: 0.7465\n",
      "Epoch 50/200\n",
      "1/1 [==============================] - 0s 4ms/step - loss: 0.7310\n",
      "Epoch 51/200\n",
      "1/1 [==============================] - 0s 5ms/step - loss: 0.7160\n",
      "Epoch 52/200\n",
      "1/1 [==============================] - 0s 5ms/step - loss: 0.7012\n",
      "Epoch 53/200\n",
      "1/1 [==============================] - 0s 5ms/step - loss: 0.6867\n",
      "Epoch 54/200\n",
      "1/1 [==============================] - 0s 5ms/step - loss: 0.6726\n",
      "Epoch 55/200\n",
      "1/1 [==============================] - 0s 4ms/step - loss: 0.6588\n",
      "Epoch 56/200\n",
      "1/1 [==============================] - 0s 6ms/step - loss: 0.6452\n",
      "Epoch 57/200\n",
      "1/1 [==============================] - 0s 4ms/step - loss: 0.6319\n",
      "Epoch 58/200\n",
      "1/1 [==============================] - 0s 4ms/step - loss: 0.6189\n",
      "Epoch 59/200\n",
      "1/1 [==============================] - 0s 4ms/step - loss: 0.6062\n",
      "Epoch 60/200\n",
      "1/1 [==============================] - 0s 4ms/step - loss: 0.5938\n",
      "Epoch 61/200\n",
      "1/1 [==============================] - 0s 5ms/step - loss: 0.5816\n",
      "Epoch 62/200\n",
      "1/1 [==============================] - 0s 4ms/step - loss: 0.5696\n",
      "Epoch 63/200\n",
      "1/1 [==============================] - 0s 5ms/step - loss: 0.5579\n",
      "Epoch 64/200\n",
      "1/1 [==============================] - 0s 5ms/step - loss: 0.5464\n",
      "Epoch 65/200\n",
      "1/1 [==============================] - 0s 5ms/step - loss: 0.5352\n",
      "Epoch 66/200\n",
      "1/1 [==============================] - 0s 6ms/step - loss: 0.5242\n",
      "Epoch 67/200\n",
      "1/1 [==============================] - 0s 4ms/step - loss: 0.5134\n",
      "Epoch 68/200\n",
      "1/1 [==============================] - 0s 5ms/step - loss: 0.5029\n",
      "Epoch 69/200\n",
      "1/1 [==============================] - 0s 6ms/step - loss: 0.4926\n",
      "Epoch 70/200\n",
      "1/1 [==============================] - 0s 4ms/step - loss: 0.4825\n",
      "Epoch 71/200\n",
      "1/1 [==============================] - 0s 4ms/step - loss: 0.4725\n",
      "Epoch 72/200\n",
      "1/1 [==============================] - 0s 4ms/step - loss: 0.4628\n",
      "Epoch 73/200\n",
      "1/1 [==============================] - 0s 5ms/step - loss: 0.4533\n",
      "Epoch 74/200\n",
      "1/1 [==============================] - 0s 5ms/step - loss: 0.4440\n",
      "Epoch 75/200\n",
      "1/1 [==============================] - 0s 4ms/step - loss: 0.4349\n",
      "Epoch 76/200\n",
      "1/1 [==============================] - 0s 4ms/step - loss: 0.4260\n",
      "Epoch 77/200\n",
      "1/1 [==============================] - 0s 4ms/step - loss: 0.4172\n",
      "Epoch 78/200\n",
      "1/1 [==============================] - 0s 5ms/step - loss: 0.4086\n",
      "Epoch 79/200\n",
      "1/1 [==============================] - 0s 4ms/step - loss: 0.4002\n",
      "Epoch 80/200\n",
      "1/1 [==============================] - 0s 4ms/step - loss: 0.3920\n",
      "Epoch 81/200\n",
      "1/1 [==============================] - 0s 5ms/step - loss: 0.3840\n",
      "Epoch 82/200\n",
      "1/1 [==============================] - 0s 4ms/step - loss: 0.3761\n",
      "Epoch 83/200\n",
      "1/1 [==============================] - 0s 5ms/step - loss: 0.3684\n",
      "Epoch 84/200\n",
      "1/1 [==============================] - 0s 4ms/step - loss: 0.3608\n",
      "Epoch 85/200\n",
      "1/1 [==============================] - 0s 4ms/step - loss: 0.3534\n",
      "Epoch 86/200\n",
      "1/1 [==============================] - 0s 4ms/step - loss: 0.3461\n",
      "Epoch 87/200\n",
      "1/1 [==============================] - 0s 5ms/step - loss: 0.3390\n",
      "Epoch 88/200\n",
      "1/1 [==============================] - 0s 4ms/step - loss: 0.3321\n",
      "Epoch 89/200\n",
      "1/1 [==============================] - 0s 5ms/step - loss: 0.3252\n",
      "Epoch 90/200\n",
      "1/1 [==============================] - 0s 6ms/step - loss: 0.3186\n",
      "Epoch 91/200\n",
      "1/1 [==============================] - 0s 4ms/step - loss: 0.3120\n",
      "Epoch 92/200\n",
      "1/1 [==============================] - 0s 5ms/step - loss: 0.3056\n",
      "Epoch 93/200\n",
      "1/1 [==============================] - 0s 4ms/step - loss: 0.2993\n",
      "Epoch 94/200\n",
      "1/1 [==============================] - 0s 5ms/step - loss: 0.2932\n",
      "Epoch 95/200\n",
      "1/1 [==============================] - 0s 4ms/step - loss: 0.2872\n",
      "Epoch 96/200\n",
      "1/1 [==============================] - 0s 5ms/step - loss: 0.2813\n",
      "Epoch 97/200\n",
      "1/1 [==============================] - 0s 6ms/step - loss: 0.2755\n",
      "Epoch 98/200\n",
      "1/1 [==============================] - 0s 6ms/step - loss: 0.2698\n",
      "Epoch 99/200\n",
      "1/1 [==============================] - 0s 5ms/step - loss: 0.2643\n",
      "Epoch 100/200\n",
      "1/1 [==============================] - 0s 6ms/step - loss: 0.2588\n",
      "Epoch 101/200\n",
      "1/1 [==============================] - 0s 5ms/step - loss: 0.2535\n",
      "Epoch 102/200\n",
      "1/1 [==============================] - 0s 5ms/step - loss: 0.2483\n",
      "Epoch 103/200\n",
      "1/1 [==============================] - 0s 5ms/step - loss: 0.2432\n",
      "Epoch 104/200\n",
      "1/1 [==============================] - 0s 5ms/step - loss: 0.2382\n",
      "Epoch 105/200\n",
      "1/1 [==============================] - 0s 5ms/step - loss: 0.2333\n",
      "Epoch 106/200\n",
      "1/1 [==============================] - 0s 5ms/step - loss: 0.2285\n",
      "Epoch 107/200\n",
      "1/1 [==============================] - 0s 5ms/step - loss: 0.2238\n",
      "Epoch 108/200\n",
      "1/1 [==============================] - 0s 4ms/step - loss: 0.2192\n",
      "Epoch 109/200\n",
      "1/1 [==============================] - 0s 4ms/step - loss: 0.2147\n",
      "Epoch 110/200\n",
      "1/1 [==============================] - 0s 4ms/step - loss: 0.2103\n",
      "Epoch 111/200\n",
      "1/1 [==============================] - 0s 5ms/step - loss: 0.2060\n",
      "Epoch 112/200\n",
      "1/1 [==============================] - 0s 5ms/step - loss: 0.2018\n",
      "Epoch 113/200\n",
      "1/1 [==============================] - 0s 4ms/step - loss: 0.1976\n",
      "Epoch 114/200\n",
      "1/1 [==============================] - 0s 5ms/step - loss: 0.1936\n",
      "Epoch 115/200\n",
      "1/1 [==============================] - 0s 5ms/step - loss: 0.1896\n",
      "Epoch 116/200\n",
      "1/1 [==============================] - 0s 6ms/step - loss: 0.1857\n",
      "Epoch 117/200\n",
      "1/1 [==============================] - 0s 5ms/step - loss: 0.1819\n",
      "Epoch 118/200\n",
      "1/1 [==============================] - 0s 4ms/step - loss: 0.1782\n",
      "Epoch 119/200\n",
      "1/1 [==============================] - 0s 5ms/step - loss: 0.1745\n",
      "Epoch 120/200\n",
      "1/1 [==============================] - 0s 6ms/step - loss: 0.1709\n",
      "Epoch 121/200\n",
      "1/1 [==============================] - 0s 4ms/step - loss: 0.1674\n",
      "Epoch 122/200\n",
      "1/1 [==============================] - 0s 4ms/step - loss: 0.1640\n",
      "Epoch 123/200\n",
      "1/1 [==============================] - 0s 5ms/step - loss: 0.1606\n",
      "Epoch 124/200\n",
      "1/1 [==============================] - 0s 4ms/step - loss: 0.1573\n",
      "Epoch 125/200\n",
      "1/1 [==============================] - 0s 5ms/step - loss: 0.1541\n",
      "Epoch 126/200\n",
      "1/1 [==============================] - 0s 4ms/step - loss: 0.1509\n",
      "Epoch 127/200\n",
      "1/1 [==============================] - 0s 5ms/step - loss: 0.1478\n",
      "Epoch 128/200\n",
      "1/1 [==============================] - 0s 5ms/step - loss: 0.1448\n",
      "Epoch 129/200\n",
      "1/1 [==============================] - 0s 5ms/step - loss: 0.1418\n",
      "Epoch 130/200\n",
      "1/1 [==============================] - 0s 5ms/step - loss: 0.1389\n",
      "Epoch 131/200\n",
      "1/1 [==============================] - 0s 5ms/step - loss: 0.1360\n",
      "Epoch 132/200\n",
      "1/1 [==============================] - 0s 4ms/step - loss: 0.1332\n",
      "Epoch 133/200\n",
      "1/1 [==============================] - 0s 5ms/step - loss: 0.1305\n",
      "Epoch 134/200\n",
      "1/1 [==============================] - 0s 4ms/step - loss: 0.1278\n",
      "Epoch 135/200\n",
      "1/1 [==============================] - 0s 4ms/step - loss: 0.1252\n",
      "Epoch 136/200\n",
      "1/1 [==============================] - 0s 4ms/step - loss: 0.1226\n",
      "Epoch 137/200\n",
      "1/1 [==============================] - 0s 4ms/step - loss: 0.1201\n",
      "Epoch 138/200\n",
      "1/1 [==============================] - 0s 5ms/step - loss: 0.1176\n",
      "Epoch 139/200\n",
      "1/1 [==============================] - 0s 4ms/step - loss: 0.1152\n",
      "Epoch 140/200\n",
      "1/1 [==============================] - 0s 4ms/step - loss: 0.1129\n",
      "Epoch 141/200\n",
      "1/1 [==============================] - 0s 4ms/step - loss: 0.1105\n",
      "Epoch 142/200\n",
      "1/1 [==============================] - 0s 5ms/step - loss: 0.1083\n",
      "Epoch 143/200\n",
      "1/1 [==============================] - 0s 5ms/step - loss: 0.1060\n",
      "Epoch 144/200\n",
      "1/1 [==============================] - 0s 4ms/step - loss: 0.1039\n",
      "Epoch 145/200\n",
      "1/1 [==============================] - 0s 4ms/step - loss: 0.1017\n",
      "Epoch 146/200\n",
      "1/1 [==============================] - 0s 4ms/step - loss: 0.0996\n",
      "Epoch 147/200\n",
      "1/1 [==============================] - 0s 4ms/step - loss: 0.0976\n",
      "Epoch 148/200\n",
      "1/1 [==============================] - 0s 4ms/step - loss: 0.0956\n",
      "Epoch 149/200\n",
      "1/1 [==============================] - 0s 4ms/step - loss: 0.0936\n",
      "Epoch 150/200\n",
      "1/1 [==============================] - 0s 4ms/step - loss: 0.0917\n",
      "Epoch 151/200\n",
      "1/1 [==============================] - 0s 5ms/step - loss: 0.0898\n",
      "Epoch 152/200\n",
      "1/1 [==============================] - 0s 5ms/step - loss: 0.0880\n",
      "Epoch 153/200\n",
      "1/1 [==============================] - 0s 4ms/step - loss: 0.0862\n",
      "Epoch 154/200\n",
      "1/1 [==============================] - 0s 4ms/step - loss: 0.0844\n",
      "Epoch 155/200\n",
      "1/1 [==============================] - 0s 4ms/step - loss: 0.0827\n",
      "Epoch 156/200\n",
      "1/1 [==============================] - 0s 4ms/step - loss: 0.0810\n",
      "Epoch 157/200\n",
      "1/1 [==============================] - 0s 4ms/step - loss: 0.0793\n",
      "Epoch 158/200\n",
      "1/1 [==============================] - 0s 5ms/step - loss: 0.0777\n",
      "Epoch 159/200\n",
      "1/1 [==============================] - 0s 5ms/step - loss: 0.0761\n",
      "Epoch 160/200\n",
      "1/1 [==============================] - 0s 5ms/step - loss: 0.0745\n",
      "Epoch 161/200\n",
      "1/1 [==============================] - 0s 5ms/step - loss: 0.0730\n",
      "Epoch 162/200\n",
      "1/1 [==============================] - 0s 5ms/step - loss: 0.0715\n",
      "Epoch 163/200\n",
      "1/1 [==============================] - 0s 6ms/step - loss: 0.0700\n",
      "Epoch 164/200\n",
      "1/1 [==============================] - 0s 4ms/step - loss: 0.0686\n",
      "Epoch 165/200\n",
      "1/1 [==============================] - 0s 5ms/step - loss: 0.0672\n",
      "Epoch 166/200\n",
      "1/1 [==============================] - 0s 4ms/step - loss: 0.0658\n",
      "Epoch 167/200\n",
      "1/1 [==============================] - 0s 4ms/step - loss: 0.0644\n",
      "Epoch 168/200\n",
      "1/1 [==============================] - 0s 4ms/step - loss: 0.0631\n",
      "Epoch 169/200\n",
      "1/1 [==============================] - 0s 5ms/step - loss: 0.0618\n",
      "Epoch 170/200\n",
      "1/1 [==============================] - 0s 5ms/step - loss: 0.0605\n",
      "Epoch 171/200\n",
      "1/1 [==============================] - 0s 5ms/step - loss: 0.0593\n",
      "Epoch 172/200\n",
      "1/1 [==============================] - 0s 4ms/step - loss: 0.0581\n",
      "Epoch 173/200\n",
      "1/1 [==============================] - 0s 5ms/step - loss: 0.0569\n",
      "Epoch 174/200\n",
      "1/1 [==============================] - 0s 6ms/step - loss: 0.0557\n",
      "Epoch 175/200\n",
      "1/1 [==============================] - 0s 5ms/step - loss: 0.0546\n",
      "Epoch 176/200\n",
      "1/1 [==============================] - 0s 4ms/step - loss: 0.0535\n",
      "Epoch 177/200\n",
      "1/1 [==============================] - 0s 4ms/step - loss: 0.0524\n",
      "Epoch 178/200\n",
      "1/1 [==============================] - 0s 4ms/step - loss: 0.0513\n",
      "Epoch 179/200\n",
      "1/1 [==============================] - 0s 4ms/step - loss: 0.0502\n",
      "Epoch 180/200\n",
      "1/1 [==============================] - 0s 4ms/step - loss: 0.0492\n",
      "Epoch 181/200\n",
      "1/1 [==============================] - 0s 5ms/step - loss: 0.0482\n",
      "Epoch 182/200\n",
      "1/1 [==============================] - 0s 4ms/step - loss: 0.0472\n",
      "Epoch 183/200\n",
      "1/1 [==============================] - 0s 5ms/step - loss: 0.0462\n",
      "Epoch 184/200\n",
      "1/1 [==============================] - 0s 5ms/step - loss: 0.0453\n",
      "Epoch 185/200\n",
      "1/1 [==============================] - 0s 5ms/step - loss: 0.0443\n",
      "Epoch 186/200\n",
      "1/1 [==============================] - 0s 5ms/step - loss: 0.0434\n",
      "Epoch 187/200\n",
      "1/1 [==============================] - 0s 5ms/step - loss: 0.0425\n",
      "Epoch 188/200\n",
      "1/1 [==============================] - 0s 5ms/step - loss: 0.0417\n",
      "Epoch 189/200\n",
      "1/1 [==============================] - 0s 4ms/step - loss: 0.0408\n",
      "Epoch 190/200\n",
      "1/1 [==============================] - 0s 5ms/step - loss: 0.0400\n",
      "Epoch 191/200\n",
      "1/1 [==============================] - 0s 4ms/step - loss: 0.0392\n",
      "Epoch 192/200\n",
      "1/1 [==============================] - 0s 4ms/step - loss: 0.0384\n",
      "Epoch 193/200\n",
      "1/1 [==============================] - 0s 5ms/step - loss: 0.0376\n",
      "Epoch 194/200\n",
      "1/1 [==============================] - 0s 4ms/step - loss: 0.0368\n",
      "Epoch 195/200\n",
      "1/1 [==============================] - 0s 5ms/step - loss: 0.0360\n",
      "Epoch 196/200\n",
      "1/1 [==============================] - 0s 5ms/step - loss: 0.0353\n",
      "Epoch 197/200\n",
      "1/1 [==============================] - 0s 4ms/step - loss: 0.0346\n",
      "Epoch 198/200\n",
      "1/1 [==============================] - 0s 5ms/step - loss: 0.0339\n",
      "Epoch 199/200\n",
      "1/1 [==============================] - 0s 5ms/step - loss: 0.0332\n",
      "Epoch 200/200\n",
      "1/1 [==============================] - 0s 5ms/step - loss: 0.0325\n"
     ]
    },
    {
     "data": {
      "text/plain": [
       "<keras.callbacks.History at 0x7fd8c049aeb0>"
      ]
     },
     "execution_count": 5,
     "metadata": {},
     "output_type": "execute_result"
    }
   ],
   "source": [
    "# Create a simple Keras model.\n",
    "x = [-1, 0, 1, 2, 3, 4]\n",
    "y = [-3, -1, 1, 3, 5, 7]\n",
    "\n",
    "model = tf.keras.models.Sequential([\n",
    "        tf.keras.layers.Dense(units=1, input_shape=[1])\n",
    "])\n",
    "\n",
    "model.compile(optimizer='sgd',\n",
    "              loss='mean_squared_error')\n",
    "\n",
    "model.fit(x, y, epochs=200)"
   ]
  },
  {
   "cell_type": "markdown",
   "metadata": {
    "id": "EjsB-QICGt6L"
   },
   "source": [
    "## Generate a SavedModel"
   ]
  },
  {
   "cell_type": "code",
   "execution_count": 6,
   "metadata": {
    "id": "a9xcbK7QHOfm",
    "tags": []
   },
   "outputs": [
    {
     "name": "stderr",
     "output_type": "stream",
     "text": [
      "WARNING:absl:Found untraced functions such as _update_step_xla while saving (showing 1 of 1). These functions will not be directly callable after loading.\n"
     ]
    },
    {
     "name": "stdout",
     "output_type": "stream",
     "text": [
      "INFO:tensorflow:Assets written to: saved_model/1/assets\n"
     ]
    },
    {
     "name": "stderr",
     "output_type": "stream",
     "text": [
      "INFO:tensorflow:Assets written to: saved_model/1/assets\n"
     ]
    }
   ],
   "source": [
    "export_dir = 'saved_model/1'\n",
    "tf.saved_model.save(model, export_dir)"
   ]
  },
  {
   "cell_type": "markdown",
   "metadata": {
    "id": "RRtsNwkiGxcO"
   },
   "source": [
    "## Convert the SavedModel to TFLite"
   ]
  },
  {
   "cell_type": "code",
   "execution_count": 7,
   "metadata": {
    "id": "TtM8yKTVTpD3",
    "tags": []
   },
   "outputs": [
    {
     "name": "stderr",
     "output_type": "stream",
     "text": [
      "2023-05-26 14:54:31.840593: W tensorflow/compiler/mlir/lite/python/tf_tfl_flatbuffer_helpers.cc:362] Ignored output_format.\n",
      "2023-05-26 14:54:31.840622: W tensorflow/compiler/mlir/lite/python/tf_tfl_flatbuffer_helpers.cc:365] Ignored drop_control_dependency.\n"
     ]
    }
   ],
   "source": [
    "# Convert the model.\n",
    "converter = tf.lite.TFLiteConverter.from_saved_model(export_dir)\n",
    "tflite_model = converter.convert()"
   ]
  },
  {
   "cell_type": "code",
   "execution_count": 8,
   "metadata": {
    "id": "4idYulcNHTdO",
    "tags": []
   },
   "outputs": [
    {
     "data": {
      "text/plain": [
       "1080"
      ]
     },
     "execution_count": 8,
     "metadata": {},
     "output_type": "execute_result"
    }
   ],
   "source": [
    "tflite_model_file = pathlib.Path('model.tflite')\n",
    "tflite_model_file.write_bytes(tflite_model)"
   ]
  },
  {
   "cell_type": "markdown",
   "metadata": {
    "id": "HgGvp2yBG25Q"
   },
   "source": [
    "## Initialize the TFLite Interpreter To Try It Out"
   ]
  },
  {
   "cell_type": "code",
   "execution_count": 9,
   "metadata": {
    "id": "DOt94wIWF8m7",
    "tags": []
   },
   "outputs": [
    {
     "name": "stderr",
     "output_type": "stream",
     "text": [
      "INFO: Created TensorFlow Lite XNNPACK delegate for CPU.\n"
     ]
    }
   ],
   "source": [
    "# Load TFLite model and allocate tensors.\n",
    "interpreter = tf.lite.Interpreter(model_content=tflite_model)\n",
    "interpreter.allocate_tensors()\n",
    "\n",
    "# Get input and output tensors.\n",
    "input_details = interpreter.get_input_details()\n",
    "output_details = interpreter.get_output_details()"
   ]
  },
  {
   "cell_type": "code",
   "execution_count": 10,
   "metadata": {
    "id": "JGYkEK08F8qK",
    "tags": []
   },
   "outputs": [],
   "source": [
    "# Test the TensorFlow Lite model on random input data.\n",
    "input_shape = input_details[0]['shape']\n",
    "inputs, outputs = [], []\n",
    "for _ in range(100):\n",
    "    input_data = np.array(np.random.random_sample(input_shape), dtype=np.float32)\n",
    "    interpreter.set_tensor(input_details[0]['index'], input_data)\n",
    "    \n",
    "    interpreter.invoke()\n",
    "    tflite_results = interpreter.get_tensor(output_details[0]['index'])\n",
    "    \n",
    "    # Test the TensorFlow model on random input data.\n",
    "    tf_results = model(tf.constant(input_data))\n",
    "    output_data = np.array(tf_results)\n",
    "    \n",
    "    inputs.append(input_data[0][0])\n",
    "    outputs.append(output_data[0][0])"
   ]
  },
  {
   "cell_type": "markdown",
   "metadata": {
    "id": "t1gQGH1KWAgW"
   },
   "source": [
    "## Visualize the Model"
   ]
  },
  {
   "cell_type": "code",
   "execution_count": 11,
   "metadata": {
    "id": "ccvQ1mEJVrqo",
    "tags": []
   },
   "outputs": [
    {
     "data": {
      "image/png": "[encoded data removed]",
      "text/plain": [
       "<Figure size 640x480 with 1 Axes>"
      ]
     },
     "metadata": {},
     "output_type": "display_data"
    }
   ],
   "source": [
    "%matplotlib inline\n",
    "\n",
    "plt.plot(inputs, outputs, 'r')\n",
    "plt.show()"
   ]
  },
  {
   "cell_type": "markdown",
   "metadata": {
    "id": "WbugMH6yKvtd"
   },
   "source": [
    "## Download the TFLite Model File\n",
    "\n",
    "If you are running this notebook in a Colab, you can run the cell below to download the tflite model to your local disk. \n",
    "\n",
    "**Note**: If the file does not download when you run the cell, try running the cell a second time."
   ]
  },
  {
   "cell_type": "code",
   "execution_count": 12,
   "metadata": {
    "id": "FOAIMETeJmkc",
    "tags": []
   },
   "outputs": [],
   "source": [
    "try:\n",
    "    from google.colab import files\n",
    "    files.download(tflite_model_file)\n",
    "except:\n",
    "    pass"
   ]
  }
 ],
 "metadata": {
  "accelerator": "GPU",
  "colab": {
   "collapsed_sections": [],
   "include_colab_link": true,
   "name": "C2_W1_Lab_1_Linear_Regression.ipynb",
   "private_outputs": true,
   "provenance": [],
   "toc_visible": true
  },
  "kernelspec": {
   "display_name": "default:Python",
   "language": "python",
   "name": "conda-env-default-py"
  },
  "language_info": {
   "codemirror_mode": {
    "name": "ipython",
    "version": 3
   },
   "file_extension": ".py",
   "mimetype": "text/x-python",
   "name": "python",
   "nbconvert_exporter": "python",
   "pygments_lexer": "ipython3",
   "version": "3.9.16"
  }
 },
 "nbformat": 4,
 "nbformat_minor": 4
}
